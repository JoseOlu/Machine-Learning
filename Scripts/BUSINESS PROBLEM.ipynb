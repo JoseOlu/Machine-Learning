{
 "cells": [
  {
   "cell_type": "markdown",
   "metadata": {},
   "source": [
    "##  (A) INTRODUCTION "
   ]
  },
  {
   "cell_type": "markdown",
   "metadata": {},
   "source": [
    "### In this project, there is an entrepreneur who is into agriculture, I want to use my knowledge of data science to know the best place to start his business in the United States of America.\n",
    "\n",
    "### Therefore, this is also a great opportunity for any entrepreneur who is based in any other part of the world. As agriculture and livestock farming is an important aspect of our day-to-day activities, so agric entrepreneur might think of opening their business in areas where there are more restaurants, food processing factories.\n",
    "\n",
    "### With the purpose in mind, finding the location to open such business is one of the most important decisions for this entrepreneur and I am designing this project to help him find the most suitable location. \n"
   ]
  },
  {
   "cell_type": "code",
   "execution_count": null,
   "metadata": {},
   "outputs": [],
   "source": []
  },
  {
   "cell_type": "markdown",
   "metadata": {},
   "source": [
    "##  (B) BUSINESS PROBLEM "
   ]
  },
  {
   "cell_type": "markdown",
   "metadata": {},
   "source": [
    "### The objective of this capstone project is to find the most suitable location for the entrepreneur to open a new agriculture business in Washington, USA.\n",
    "\n",
    "### By using data science methods and tools along with machine learning algorithms such as clustering, this project aims to provide solutions to answer the business question : In USA, if an entrepreneur wants to open an agriculture business, where should they consider opening it? \n"
   ]
  },
  {
   "cell_type": "code",
   "execution_count": null,
   "metadata": {},
   "outputs": [],
   "source": []
  },
  {
   "cell_type": "markdown",
   "metadata": {},
   "source": [
    "###  (C) TARGET AUDIENCE :The entrepreneur who wants to find the location to open an agriculture business. \n",
    "### This is a capstone project for IBM Data Science Professional Certificate."
   ]
  },
  {
   "cell_type": "code",
   "execution_count": null,
   "metadata": {},
   "outputs": [],
   "source": []
  },
  {
   "cell_type": "markdown",
   "metadata": {},
   "source": []
  },
  {
   "cell_type": "code",
   "execution_count": null,
   "metadata": {},
   "outputs": [],
   "source": []
  }
 ],
 "metadata": {
  "kernelspec": {
   "display_name": "Python 3",
   "language": "python",
   "name": "python3"
  },
  "language_info": {
   "codemirror_mode": {
    "name": "ipython",
    "version": 3
   },
   "file_extension": ".py",
   "mimetype": "text/x-python",
   "name": "python",
   "nbconvert_exporter": "python",
   "pygments_lexer": "ipython3",
   "version": "3.7.6"
  }
 },
 "nbformat": 4,
 "nbformat_minor": 4
}
