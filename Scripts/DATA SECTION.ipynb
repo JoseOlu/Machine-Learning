{
 "cells": [
  {
   "cell_type": "markdown",
   "metadata": {},
   "source": [
    "## DATA SECTION"
   ]
  },
  {
   "cell_type": "code",
   "execution_count": null,
   "metadata": {},
   "outputs": [],
   "source": []
  },
  {
   "cell_type": "markdown",
   "metadata": {},
   "source": [
    "###  To solve this problem, we will need below data: \n",
    "### ● List of neighborhoods in Washington, USA \n",
    "### ● Latitude and Longitude of these neighborhoods \n",
    "### ● Venue data related to farms and agro-related businesses.This will help us find the neighborhoods that are more suitable to open an agriculture business. \n"
   ]
  },
  {
   "cell_type": "code",
   "execution_count": null,
   "metadata": {},
   "outputs": [],
   "source": []
  },
  {
   "cell_type": "markdown",
   "metadata": {},
   "source": [
    "## EXTRACTING THE DATA\n",
    "\n",
    "### ● Scrapping of neighborhoods in Washington via Wikipedia \n",
    "### ● Getting Latitude and Longitude data of these neighborhoods via Geocoder package \n",
    "### ● Using Foursquare API to get venue data related to these neighborhoods"
   ]
  },
  {
   "cell_type": "code",
   "execution_count": null,
   "metadata": {},
   "outputs": [],
   "source": []
  }
 ],
 "metadata": {
  "kernelspec": {
   "display_name": "Python 3",
   "language": "python",
   "name": "python3"
  },
  "language_info": {
   "codemirror_mode": {
    "name": "ipython",
    "version": 3
   },
   "file_extension": ".py",
   "mimetype": "text/x-python",
   "name": "python",
   "nbconvert_exporter": "python",
   "pygments_lexer": "ipython3",
   "version": "3.7.6"
  }
 },
 "nbformat": 4,
 "nbformat_minor": 4
}
