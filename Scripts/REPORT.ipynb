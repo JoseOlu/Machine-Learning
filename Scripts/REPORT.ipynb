{
 "cells": [
  {
   "cell_type": "markdown",
   "metadata": {},
   "source": [
    "##  (A) INTRODUCTION "
   ]
  },
  {
   "cell_type": "code",
   "execution_count": null,
   "metadata": {},
   "outputs": [],
   "source": []
  },
  {
   "cell_type": "raw",
   "metadata": {},
   "source": [
    "In this project, there is an entrepreneur who is into agriculture, I want to use my knowledge of data science to know the best place to start his business in Canada.\n",
    "Therefore, this is also a great opportunity for any entrepreneur who is based in any other part of the world. As agriculture and livestock farming is an important aspect of our day-to-day activities, so agric entrepreneur might think of opening their business in areas where there are more restaurants, food processing factories.\n",
    "With the purpose in mind, finding the location to open such business is one of the most important decisions for this entrepreneur and I am designing this project to help him find the most suitable location. \n"
   ]
  },
  {
   "cell_type": "raw",
   "metadata": {},
   "source": [
    "The objective of this capstone project is to find the most suitable location for the entrepreneur to open a new agriculture business in Toronto, Canada.\n",
    "By using data science methods and tools along with machine learning algorithms such as clustering, this project aims to provide solutions to answer the business question : In Toronto, if an entrepreneur wants to open an agriculture business, where should they consider opening it? \n"
   ]
  },
  {
   "cell_type": "code",
   "execution_count": null,
   "metadata": {},
   "outputs": [],
   "source": []
  },
  {
   "cell_type": "markdown",
   "metadata": {},
   "source": [
    "TARGET AUDIENCE :The entrepreneur who wants to find the location to open an agriculture business. \n",
    "This is a capstone project for IBM Data Science Professional Certificate."
   ]
  },
  {
   "cell_type": "code",
   "execution_count": null,
   "metadata": {},
   "outputs": [],
   "source": []
  },
  {
   "cell_type": "markdown",
   "metadata": {},
   "source": [
    "##   (B)  DATA SECTION"
   ]
  },
  {
   "cell_type": "raw",
   "metadata": {},
   "source": [
    "To solve this problem, we will need below data: \n",
    "● List of neighborhoods in Toronto, Canada \n",
    "● Latitude and Longitude of these neighborhoods \n",
    "● Venue data related to farms and agro-related businesses.This will help us find the neighborhoods that are more suitable to open an agriculture business. \n",
    "\n",
    "Data Link: https://en.wikipedia.org/wiki/List_of_postal_codes_of_Canada:_M\n",
    "\n",
    "Will use Scarborough dataset which we scrapped from wikipedia on Week 3. Dataset consisting of latitude and longitude, zip codes."
   ]
  },
  {
   "cell_type": "code",
   "execution_count": null,
   "metadata": {},
   "outputs": [],
   "source": []
  },
  {
   "cell_type": "markdown",
   "metadata": {},
   "source": [
    "##   (C) METHODOLOGY"
   ]
  },
  {
   "cell_type": "raw",
   "metadata": {},
   "source": [
    "We will need data about different venues in different neighborhoods of that specific borough. In order to gain that information we will use \"Foursquare\" locational information. Foursquare is a location data provider with information about all manner of venues and events within an area of interest. Such information includes venue names, locations, menus and even photos. As such, the foursquare location platform will be used as the sole data source since all the stated required information can be obtained through the API.\n",
    "\n",
    "After finding the list of neighborhoods, we then connect to the Foursquare API to gather information about venues inside each and every neighborhood. For each neighborhood, we have chosen the radius to be 100 meter. The data retrieved from Foursquare contained information of venues within a specified distance of the longitude and latitude of the postcodes. The information obtained per venue as follows:\n",
    "\n",
    "1. Neighborhood\n",
    "2. Neighborhood Latitude\n",
    "3. Neighborhood Longitude\n",
    "4. Venue\n",
    "5. Name of the venue e.g. the name of a store or restaurant\n",
    "6. Venue Latitude\n",
    "7. Venue Longitude\n",
    "8. Venue Category"
   ]
  },
  {
   "cell_type": "raw",
   "metadata": {},
   "source": [
    "Data Link: https://en.wikipedia.org/wiki/List_of_postal_codes_of_Canada:_M. We use Scarborough dataset which we scrapped from wikipedia on Week 3. Dataset consisting of latitude and longitude, zip codes. I used the read_clipboard() method to get the data which was later then modified.  I made use of kNN algorithm to get the best area to establish an agriculture business in Toronto, Canada."
   ]
  },
  {
   "cell_type": "markdown",
   "metadata": {},
   "source": []
  },
  {
   "cell_type": "markdown",
   "metadata": {},
   "source": [
    "#  (D) RESULTS"
   ]
  },
  {
   "cell_type": "raw",
   "metadata": {},
   "source": [
    "With the help of Foursquare API, wikipedia data and kNN algorithm as seen above, I was able to explore all possibilities since the popups provide the information needed for a good decision.\n",
    "\n",
    "It is clear that cluister 2 is the best place to start the bsuiness. This is because the place is more surrounded with induxtries, restaurants and manufacturing induxtries who may be in need of the agricultural products. No other place is as clustered as cluster 2. It is miles above the rest."
   ]
  },
  {
   "cell_type": "code",
   "execution_count": null,
   "metadata": {},
   "outputs": [],
   "source": []
  },
  {
   "cell_type": "markdown",
   "metadata": {},
   "source": [
    "## (E) DISCUSSION SECTION"
   ]
  },
  {
   "cell_type": "raw",
   "metadata": {},
   "source": [
    "Those location candidates were clustered to create zones of interest which contain greatest number of location candidates. Addresses of centers of those zones were also generated using reverse geocoding to be used as markers/starting points for more detailed local analysis based on other factors.\n",
    "Also, having more data at hand could have made the work a little bit easier and the results a more accuarte. However, I was able to make-do with the one at my disposal and I was able to draw reasonable conclusions from it.\n",
    "Final decission on optimal location will be made by stakeholders based on specific characteristics of neighborhoods and locations in every recommended zone, taking into consideration additional factors like attractiveness of each location (proximity to park or water), levels of noise / proximity to major roads, real estate availability, prices, social and economic dynamics of every neighborhood etc."
   ]
  },
  {
   "cell_type": "code",
   "execution_count": null,
   "metadata": {},
   "outputs": [],
   "source": []
  },
  {
   "cell_type": "markdown",
   "metadata": {},
   "source": [
    "##  (F) CONCLUSION"
   ]
  },
  {
   "cell_type": "raw",
   "metadata": {},
   "source": [
    "In this project, using k-means cluster algorithm I separated the neighborhood into 5 different clusters \n",
    "and for 103 different lattitude and logitude from dataset, which have very-similar neighborhoods around them. \n",
    "Using the charts above results presented to a particular neighborhood based on restaurants and industries around the area.\n",
    "\n",
    "I feel rewarded with the efforts and believe this course with all the topics covered is well worthy of appreciation. \n",
    "This project has shown me a practical application to resolve a real situation that has impacting personal and financial impact using Data Science tools. The mapping with Folium is a very powerful technique to consolidate information and make the analysis and decision better with confidence.\n",
    "\n",
    "Libraries Which are Used to Develope the Project:\n",
    "Pandas: For creating and manipulating dataframes.\n",
    "\n",
    "Folium: Python visualization library would be used to visualize the neighborhoods cluster distribution of using interactive leaflet map.\n",
    "\n",
    "Scikit Learn: For importing k-means clustering.\n",
    "\n",
    "JSON: Library to handle JSON files.\n",
    "\n",
    "XML: To separate data from presentation and XML stores data in plain text format."
   ]
  }
 ],
 "metadata": {
  "kernelspec": {
   "display_name": "Python 3",
   "language": "python",
   "name": "python3"
  },
  "language_info": {
   "codemirror_mode": {
    "name": "ipython",
    "version": 3
   },
   "file_extension": ".py",
   "mimetype": "text/x-python",
   "name": "python",
   "nbconvert_exporter": "python",
   "pygments_lexer": "ipython3",
   "version": "3.7.6"
  }
 },
 "nbformat": 4,
 "nbformat_minor": 4
}
