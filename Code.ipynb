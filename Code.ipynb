{
 "cells": [
  {
   "cell_type": "code",
   "execution_count": 1,
   "metadata": {},
   "outputs": [],
   "source": [
    "import numpy as np\n",
    "import pandas as pd\n",
    "import seaborn as sns"
   ]
  },
  {
   "cell_type": "code",
   "execution_count": 2,
   "metadata": {},
   "outputs": [],
   "source": [
    "data = pd.read_csv('file3.csv')"
   ]
  },
  {
   "cell_type": "code",
   "execution_count": 3,
   "metadata": {},
   "outputs": [
    {
     "data": {
      "text/html": [
       "<div>\n",
       "<style scoped>\n",
       "    .dataframe tbody tr th:only-of-type {\n",
       "        vertical-align: middle;\n",
       "    }\n",
       "\n",
       "    .dataframe tbody tr th {\n",
       "        vertical-align: top;\n",
       "    }\n",
       "\n",
       "    .dataframe thead th {\n",
       "        text-align: right;\n",
       "    }\n",
       "</style>\n",
       "<table border=\"1\" class=\"dataframe\">\n",
       "  <thead>\n",
       "    <tr style=\"text-align: right;\">\n",
       "      <th></th>\n",
       "      <th>country</th>\n",
       "      <th>year</th>\n",
       "      <th>pop</th>\n",
       "      <th>continent</th>\n",
       "      <th>lifeExp</th>\n",
       "      <th>gdpPercap</th>\n",
       "    </tr>\n",
       "  </thead>\n",
       "  <tbody>\n",
       "    <tr>\n",
       "      <th>0</th>\n",
       "      <td>Afghanistan</td>\n",
       "      <td>1952</td>\n",
       "      <td>8425333.0</td>\n",
       "      <td>Asia</td>\n",
       "      <td>28.801</td>\n",
       "      <td>779.445314</td>\n",
       "    </tr>\n",
       "    <tr>\n",
       "      <th>1</th>\n",
       "      <td>Afghanistan</td>\n",
       "      <td>1957</td>\n",
       "      <td>9240934.0</td>\n",
       "      <td>Asia</td>\n",
       "      <td>30.332</td>\n",
       "      <td>820.853030</td>\n",
       "    </tr>\n",
       "    <tr>\n",
       "      <th>2</th>\n",
       "      <td>Afghanistan</td>\n",
       "      <td>1962</td>\n",
       "      <td>10267083.0</td>\n",
       "      <td>Asia</td>\n",
       "      <td>31.997</td>\n",
       "      <td>853.100710</td>\n",
       "    </tr>\n",
       "    <tr>\n",
       "      <th>3</th>\n",
       "      <td>Afghanistan</td>\n",
       "      <td>1967</td>\n",
       "      <td>11537966.0</td>\n",
       "      <td>Asia</td>\n",
       "      <td>34.020</td>\n",
       "      <td>836.197138</td>\n",
       "    </tr>\n",
       "    <tr>\n",
       "      <th>4</th>\n",
       "      <td>Afghanistan</td>\n",
       "      <td>1972</td>\n",
       "      <td>13079460.0</td>\n",
       "      <td>Asia</td>\n",
       "      <td>36.088</td>\n",
       "      <td>739.981106</td>\n",
       "    </tr>\n",
       "  </tbody>\n",
       "</table>\n",
       "</div>"
      ],
      "text/plain": [
       "       country  year         pop continent  lifeExp  gdpPercap \n",
       "0  Afghanistan  1952   8425333.0      Asia   28.801  779.445314\n",
       "1  Afghanistan  1957   9240934.0      Asia   30.332  820.853030\n",
       "2  Afghanistan  1962  10267083.0      Asia   31.997  853.100710\n",
       "3  Afghanistan  1967  11537966.0      Asia   34.020  836.197138\n",
       "4  Afghanistan  1972  13079460.0      Asia   36.088  739.981106"
      ]
     },
     "execution_count": 3,
     "metadata": {},
     "output_type": "execute_result"
    }
   ],
   "source": [
    "data.head()"
   ]
  },
  {
   "cell_type": "code",
   "execution_count": 15,
   "metadata": {},
   "outputs": [],
   "source": [
    "data['lifeExp'] = round(data['lifeExp'], 3)"
   ]
  },
  {
   "cell_type": "code",
   "execution_count": 38,
   "metadata": {},
   "outputs": [],
   "source": [
    "new_data = pd.pivot_table(data, index= ['continent'], columns = ['year'], values = ['lifeExp'], aggfunc = 'sum')"
   ]
  },
  {
   "cell_type": "code",
   "execution_count": 44,
   "metadata": {},
   "outputs": [
    {
     "data": {
      "text/html": [
       "<div>\n",
       "<style scoped>\n",
       "    .dataframe tbody tr th:only-of-type {\n",
       "        vertical-align: middle;\n",
       "    }\n",
       "\n",
       "    .dataframe tbody tr th {\n",
       "        vertical-align: top;\n",
       "    }\n",
       "\n",
       "    .dataframe thead tr th {\n",
       "        text-align: left;\n",
       "    }\n",
       "\n",
       "    .dataframe thead tr:last-of-type th {\n",
       "        text-align: right;\n",
       "    }\n",
       "</style>\n",
       "<table border=\"1\" class=\"dataframe\">\n",
       "  <thead>\n",
       "    <tr>\n",
       "      <th></th>\n",
       "      <th colspan=\"12\" halign=\"left\">lifeExp</th>\n",
       "    </tr>\n",
       "    <tr>\n",
       "      <th>year</th>\n",
       "      <th>1952</th>\n",
       "      <th>1957</th>\n",
       "      <th>1962</th>\n",
       "      <th>1967</th>\n",
       "      <th>1972</th>\n",
       "      <th>1977</th>\n",
       "      <th>1982</th>\n",
       "      <th>1987</th>\n",
       "      <th>1992</th>\n",
       "      <th>1997</th>\n",
       "      <th>2002</th>\n",
       "      <th>2007</th>\n",
       "    </tr>\n",
       "    <tr>\n",
       "      <th>continent</th>\n",
       "      <th></th>\n",
       "      <th></th>\n",
       "      <th></th>\n",
       "      <th></th>\n",
       "      <th></th>\n",
       "      <th></th>\n",
       "      <th></th>\n",
       "      <th></th>\n",
       "      <th></th>\n",
       "      <th></th>\n",
       "      <th></th>\n",
       "      <th></th>\n",
       "    </tr>\n",
       "  </thead>\n",
       "  <tbody>\n",
       "    <tr>\n",
       "      <th>Africa</th>\n",
       "      <td>2035.046</td>\n",
       "      <td>2145.850</td>\n",
       "      <td>2252.611</td>\n",
       "      <td>2357.396</td>\n",
       "      <td>2467.449</td>\n",
       "      <td>2578.182</td>\n",
       "      <td>2682.829</td>\n",
       "      <td>2773.929</td>\n",
       "      <td>2788.738</td>\n",
       "      <td>2787.110</td>\n",
       "      <td>2772.912</td>\n",
       "      <td>2849.914</td>\n",
       "    </tr>\n",
       "    <tr>\n",
       "      <th>Americas</th>\n",
       "      <td>1331.996</td>\n",
       "      <td>1399.007</td>\n",
       "      <td>1459.969</td>\n",
       "      <td>1510.273</td>\n",
       "      <td>1559.873</td>\n",
       "      <td>1609.789</td>\n",
       "      <td>1655.721</td>\n",
       "      <td>1702.268</td>\n",
       "      <td>1739.209</td>\n",
       "      <td>1778.762</td>\n",
       "      <td>1810.551</td>\n",
       "      <td>1840.203</td>\n",
       "    </tr>\n",
       "    <tr>\n",
       "      <th>Asia</th>\n",
       "      <td>1528.375</td>\n",
       "      <td>1627.512</td>\n",
       "      <td>1701.586</td>\n",
       "      <td>1803.900</td>\n",
       "      <td>1891.536</td>\n",
       "      <td>1967.148</td>\n",
       "      <td>2066.392</td>\n",
       "      <td>2140.089</td>\n",
       "      <td>2195.728</td>\n",
       "      <td>2244.677</td>\n",
       "      <td>2284.718</td>\n",
       "      <td>2334.040</td>\n",
       "    </tr>\n",
       "    <tr>\n",
       "      <th>Europe</th>\n",
       "      <td>1932.255</td>\n",
       "      <td>2001.092</td>\n",
       "      <td>2056.177</td>\n",
       "      <td>2092.128</td>\n",
       "      <td>2123.251</td>\n",
       "      <td>2158.133</td>\n",
       "      <td>2184.192</td>\n",
       "      <td>2209.265</td>\n",
       "      <td>2233.203</td>\n",
       "      <td>2265.155</td>\n",
       "      <td>2301.018</td>\n",
       "      <td>2329.458</td>\n",
       "    </tr>\n",
       "    <tr>\n",
       "      <th>Oceania</th>\n",
       "      <td>138.510</td>\n",
       "      <td>140.590</td>\n",
       "      <td>142.170</td>\n",
       "      <td>142.620</td>\n",
       "      <td>143.820</td>\n",
       "      <td>145.710</td>\n",
       "      <td>148.580</td>\n",
       "      <td>150.640</td>\n",
       "      <td>153.890</td>\n",
       "      <td>156.380</td>\n",
       "      <td>159.480</td>\n",
       "      <td>161.439</td>\n",
       "    </tr>\n",
       "  </tbody>\n",
       "</table>\n",
       "</div>"
      ],
      "text/plain": [
       "            lifeExp                                                    \\\n",
       "year           1952      1957      1962      1967      1972      1977   \n",
       "continent                                                               \n",
       "Africa     2035.046  2145.850  2252.611  2357.396  2467.449  2578.182   \n",
       "Americas   1331.996  1399.007  1459.969  1510.273  1559.873  1609.789   \n",
       "Asia       1528.375  1627.512  1701.586  1803.900  1891.536  1967.148   \n",
       "Europe     1932.255  2001.092  2056.177  2092.128  2123.251  2158.133   \n",
       "Oceania     138.510   140.590   142.170   142.620   143.820   145.710   \n",
       "\n",
       "                                                                       \n",
       "year           1982      1987      1992      1997      2002      2007  \n",
       "continent                                                              \n",
       "Africa     2682.829  2773.929  2788.738  2787.110  2772.912  2849.914  \n",
       "Americas   1655.721  1702.268  1739.209  1778.762  1810.551  1840.203  \n",
       "Asia       2066.392  2140.089  2195.728  2244.677  2284.718  2334.040  \n",
       "Europe     2184.192  2209.265  2233.203  2265.155  2301.018  2329.458  \n",
       "Oceania     148.580   150.640   153.890   156.380   159.480   161.439  "
      ]
     },
     "execution_count": 44,
     "metadata": {},
     "output_type": "execute_result"
    }
   ],
   "source": [
    "pd.pivot_table(data, index= ['continent'], columns = ['year'], values = ['lifeExp'], aggfunc = 'sum')"
   ]
  },
  {
   "cell_type": "code",
   "execution_count": 45,
   "metadata": {},
   "outputs": [
    {
     "data": {
      "image/png": "[encoded data removed]",
      "text/plain": [
       "<Figure size 432x288 with 2 Axes>"
      ]
     },
     "metadata": {
      "needs_background": "light"
     },
     "output_type": "display_data"
    }
   ],
   "source": [
    "image = sns.heatmap(new_data)\n",
    "fig = image.get_figure()\n",
    "fig.savefig('Seaborn.png')"
   ]
  },
  {
   "cell_type": "code",
   "execution_count": null,
   "metadata": {},
   "outputs": [],
   "source": []
  }
 ],
 "metadata": {
  "kernelspec": {
   "display_name": "Python 3",
   "language": "python",
   "name": "python3"
  },
  "language_info": {
   "codemirror_mode": {
    "name": "ipython",
    "version": 3
   },
   "file_extension": ".py",
   "mimetype": "text/x-python",
   "name": "python",
   "nbconvert_exporter": "python",
   "pygments_lexer": "ipython3",
   "version": "3.7.6"
  }
 },
 "nbformat": 4,
 "nbformat_minor": 4
}
